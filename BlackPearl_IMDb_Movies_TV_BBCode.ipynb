{
  "nbformat": 4,
  "nbformat_minor": 0,
  "metadata": {
    "colab": {
      "name": "BlackPearl-IMDb-Movies-TV-BBCode.ipynb",
      "provenance": []
    },
    "kernelspec": {
      "name": "python3",
      "display_name": "Python 3"
    },
    "language_info": {
      "name": "python"
    }
  },
  "cells": [
    {
      "cell_type": "code",
      "source": [
        "#@markdown <center> <img src='https://imgur.com/orYuAgz.png' height=\"100\" alt=\"Gdrive-logo\"/> <img src='https://upload.wikimedia.org/wikipedia/commons/thumb/6/69/IMDB_Logo_2016.svg/320px-IMDB_Logo_2016.svg.png' height=\"30\" alt=\"imdb\"/>\n",
        "#@markdown <center><h1>BlackPearl's Movie/TV BB Code generator</h1></center><br>"
      ],
      "metadata": {
        "cellView": "form",
        "id": "TRuv90DVmmvd"
      },
      "execution_count": null,
      "outputs": []
    },
    {
      "cell_type": "code",
      "source": [
        "\n",
        "#@markdown <br><center><img src='https://upload.wikimedia.org/wikipedia/commons/thumb/d/da/Google_Drive_logo.png/600px-Google_Drive_logo.png' height=\"50\" alt=\"Gdrive-logo\"/></center>\n",
        "#@markdown <center><h3>Run this cell to install dependencies and mount Gdrive at /content/gdrive</h3></center><br>\n",
        "!apt install mediainfo\n",
        "import requests\n",
        "import re\n",
        "from google.colab import drive\n",
        "drive.mount('/content/gdrive')"
      ],
      "metadata": {
        "cellView": "form",
        "id": "3PpX0yfPifBa"
      },
      "execution_count": null,
      "outputs": []
    },
    {
      "cell_type": "code",
      "source": [
        "#@markdown <br><center><img src='https://imgur.com/XN4ptme.png' height=\"50\" alt=\"BB Code logo\"/></center>\n",
        "#@markdown <center><h3>BB Code</h3></center><br>\n",
        "APIkey = \"eeeeeeee\" # @param {type:\"string\"}\n",
        "imdbID = \"tt0770828\" # @param {type:\"string\"}\n",
        "ytlink = \"https://www.youtube.com/watch?v=T6DJcgm3wNY\" # @param {type:\"string\"}\n",
        "ytlink = re.search(r'v=([a-zA-Z0-9_-]+)&?',ytlink).group().replace(\"v=\",'')\n",
        "location = \"/content/gdrive/Shareddrives/bunnybackup/Pushpa.the.Rise.2021.Telugu.1080p.AMZN.WEB-DL.DDP5.1.HEVC-REVOLT.mkv\" # @param {type:\"string\"}\n",
        "drivelink = \"https://drive.google.com/file/d/1DMLlwVhn8-6fAoj50_7wS9YA_aodUVJ8/view?usp=sharing\" # @param {type:\"string\"}\n",
        "response = requests.get(f\"http://www.omdbapi.com/?i={imdbID}&apikey={APIkey}\")\n",
        "imdb = response.json()\n",
        "print(f'''[CENTER][IMG width=\"385px\"]{imdb['Poster'].replace(\"SX300\",\"SX1000\")}[/IMG]\n",
        "[URL='https://www.imdb.com/title/{imdbID}/'][FONT=Verdana][SIZE=26px][B][COLOR=rgb(250, 197, 28)]{imdb['Title']} ({imdb['Year']})[/COLOR][/B][/SIZE][/FONT][/URL]\n",
        "\n",
        "[IMG width=\"65px\"]https://upload.wikimedia.org/wikipedia/commons/thumb/6/69/IMDB_Logo_2016.svg/320px-IMDB_Logo_2016.svg.png[/IMG]\n",
        "[SIZE=12px]IMDB Rating : {imdb['imdbRating']} \n",
        "Language : {imdb['Language']}\n",
        "Released : {imdb[\"Released\"]}\n",
        "Genre : {imdb[\"Genre\"]}\n",
        "Runtime : {imdb[\"Runtime\"]}\n",
        "Actors : {imdb[\"Actors\"]}[/SIZE]\n",
        "\n",
        "[COLOR=rgb(250, 197, 28)][SIZE=26px]---------------------------------------------------------------------------------------------------------[/SIZE][/COLOR]\n",
        "[SIZE=18px][B][COLOR=rgb(250, 197, 28)]Plot & Trailer:[/COLOR][/B][/SIZE]\n",
        "\n",
        "{imdb[\"Plot\"]}\n",
        "[SIZE=26px][COLOR=rgb(250, 197, 28)]--------------------------------------------------------------------------------------------------------[/COLOR][/SIZE]\n",
        "\n",
        "[MEDIA=youtube]{ytlink}[/MEDIA]\n",
        "\n",
        "[/CENTER]\n",
        "[CODE title=\"MediaInfo:\"]''')\n",
        "!mediainfo {location}\n",
        "print(f'''[/CODE]\n",
        "\n",
        "[COLOR=rgb(250, 197, 28)][SIZE=18px][B]Download Link:[/B][/SIZE][/COLOR]\n",
        "[HIDEREACT=1,2,7,3,4,8,5,6]{drivelink}[/HIDEREACT]\n",
        "[CENTER]\n",
        "[/CENTER]\n",
        " ''')"
      ],
      "metadata": {
        "cellView": "form",
        "id": "i3vMV02yLwGb"
      },
      "execution_count": null,
      "outputs": []
    }
  ]
}